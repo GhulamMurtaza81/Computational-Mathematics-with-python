{
 "cells": [
  {
   "cell_type": "markdown",
   "metadata": {
    "id": "SYgM8E5Bjr3-"
   },
   "source": [
    "# **DIFFERENTIAL EQUATIONS WITH PYTHON**\n",
    "                        \n",
    "                     Dr. GHULAM MURTAZA\n",
    "### **Learning objectives**\n",
    "\n",
    "*   Solving differential equations using Sympy\n",
    "*   Solving differential equation using Laplace tarnsformation\n",
    "*   Initial value problems using scipy\n",
    "\n",
    "*   Boundary Value problems using scipy\n",
    "\n",
    "\n",
    "\n",
    "\n",
    "\n",
    "\n",
    "\n",
    "\n"
   ]
  },
  {
   "cell_type": "markdown",
   "metadata": {
    "id": "P0umcdESgzde"
   },
   "source": [
    "### **Solving differential equations using Sympy**\n",
    "We start with a very simple example:\n",
    "$$y''+2y'+y=0$$\n"
   ]
  },
  {
   "cell_type": "code",
   "execution_count": 7,
   "metadata": {
    "executionInfo": {
     "elapsed": 452,
     "status": "ok",
     "timestamp": 1696238366094,
     "user": {
      "displayName": "Dr. Ghulam Murtaza",
      "userId": "13970303583067568462"
     },
     "user_tz": -300
    },
    "id": "7bjDnJETqezJ"
   },
   "outputs": [],
   "source": [
    "from sympy import *       #symbols, Function,Eq, dsolve,checkodesol,sin,pi,laplace_transform,inverse_laplace_transform,lambdify\n",
    "from matplotlib import pyplot as plt\n",
    "import numpy as np"
   ]
  },
  {
   "cell_type": "code",
   "execution_count": 15,
   "metadata": {
    "executionInfo": {
     "elapsed": 604,
     "status": "ok",
     "timestamp": 1696238368873,
     "user": {
      "displayName": "Dr. Ghulam Murtaza",
      "userId": "13970303583067568462"
     },
     "user_tz": -300
    },
    "id": "0vw0Tf2z4t_w"
   },
   "outputs": [],
   "source": [
    "x = symbols('x') # x variable contains symbol x\n",
    "y = Function('y')(x) # a way for defining dependent variable using sympy\n",
    "yp = y.diff(x)\n",
    "ypp = yp.diff(x) # or ypp = y.diff((x, 2))\n",
    "yppp = ypp.diff(x) # ypp = y.diff((x, 3))"
   ]
  },
  {
   "cell_type": "code",
   "execution_count": 3,
   "metadata": {
    "colab": {
     "base_uri": "https://localhost:8080/",
     "height": 51
    },
    "executionInfo": {
     "elapsed": 421,
     "status": "ok",
     "timestamp": 1696238499346,
     "user": {
      "displayName": "Dr. Ghulam Murtaza",
      "userId": "13970303583067568462"
     },
     "user_tz": -300
    },
    "id": "cC082l92CzWT",
    "outputId": "4e265d95-87b8-4c29-8cd3-338f859d02cb"
   },
   "outputs": [
    {
     "data": {
      "text/latex": [
       "$\\displaystyle \\frac{1}{2}$"
      ],
      "text/plain": [
       "1/2"
      ]
     },
     "execution_count": 3,
     "metadata": {},
     "output_type": "execute_result"
    }
   ],
   "source": [
    "z=Function('z')\n",
    "z=sin(x)\n",
    "z.subs(x,pi/6)"
   ]
  },
  {
   "cell_type": "code",
   "execution_count": 5,
   "metadata": {
    "colab": {
     "base_uri": "https://localhost:8080/",
     "height": 94
    },
    "executionInfo": {
     "elapsed": 1069,
     "status": "ok",
     "timestamp": 1696238526938,
     "user": {
      "displayName": "Dr. Ghulam Murtaza",
      "userId": "13970303583067568462"
     },
     "user_tz": -300
    },
    "id": "-WJlWczSw2IO",
    "outputId": "2e5ebecc-45a0-406f-bb1c-2795d5007b94"
   },
   "outputs": [
    {
     "name": "stdout",
     "output_type": "stream",
     "text": [
      "solution: Eq(y(x), (C1 + C2*x)*exp(-x))\n"
     ]
    }
   ],
   "source": [
    "#now we will solve y''+2y'+y=0\n",
    "eq = ypp + 2*yp + y\n",
    "solution=dsolve(eq, y)\n",
    "print(\"solution:\",solution)\n",
    "#pprint(solution)\n",
    "#solution\n"
   ]
  },
  {
   "cell_type": "code",
   "execution_count": 13,
   "metadata": {
    "colab": {
     "base_uri": "https://localhost:8080/"
    },
    "executionInfo": {
     "elapsed": 852,
     "status": "ok",
     "timestamp": 1685344105637,
     "user": {
      "displayName": "Dr. Ghulam Murtaza",
      "userId": "13970303583067568462"
     },
     "user_tz": -300
    },
    "id": "y-ghbLe0fPew",
    "outputId": "252e8158-68d9-4dbe-dab0-9b887bdc40fb"
   },
   "outputs": [
    {
     "name": "stdout",
     "output_type": "stream",
     "text": [
      "solution1: Eq(y(x), (C1 + C2*x)*exp(-x))\n"
     ]
    }
   ],
   "source": [
    "#same problem solve by using sympy.Eq\n",
    "eq1=Eq(ypp + 2*yp + y,0)\n",
    "solution1=dsolve(eq1, y)\n",
    "print(\"solution1:\",solution1)\n",
    "#pprint(solution1)"
   ]
  },
  {
   "cell_type": "code",
   "execution_count": 7,
   "metadata": {
    "colab": {
     "base_uri": "https://localhost:8080/"
    },
    "executionInfo": {
     "elapsed": 428,
     "status": "ok",
     "timestamp": 1696238593593,
     "user": {
      "displayName": "Dr. Ghulam Murtaza",
      "userId": "13970303583067568462"
     },
     "user_tz": -300
    },
    "id": "UAEjqAvnfZao",
    "outputId": "3c3a79d5-9db3-471a-a369-3b023ab2c8a2"
   },
   "outputs": [
    {
     "name": "stdout",
     "output_type": "stream",
     "text": [
      "right hand side of solution: y(x)\n",
      "left hand side of solution: (C1 + C2*x)*exp(-x)\n",
      "                    -x\n",
      "y(x) = (C₁ + C₂⋅x)⋅ℯ  \n"
     ]
    }
   ],
   "source": [
    "print(\"right hand side of solution:\",solution.lhs)\n",
    "print(\"left hand side of solution:\",solution.rhs)\n",
    "pprint(solution)"
   ]
  },
  {
   "cell_type": "code",
   "execution_count": 8,
   "metadata": {
    "colab": {
     "base_uri": "https://localhost:8080/"
    },
    "executionInfo": {
     "elapsed": 446,
     "status": "ok",
     "timestamp": 1696238627287,
     "user": {
      "displayName": "Dr. Ghulam Murtaza",
      "userId": "13970303583067568462"
     },
     "user_tz": -300
    },
    "id": "bLG8L56lgpvh",
    "outputId": "3232542a-7083-4525-9631-213e262c82cc"
   },
   "outputs": [
    {
     "data": {
      "text/plain": [
       "(True, 0)"
      ]
     },
     "execution_count": 8,
     "metadata": {},
     "output_type": "execute_result"
    }
   ],
   "source": [
    "checkodesol(eq,solution)#Substitutes ``solution`` into ``ode`` and checks that the result is ``0``."
   ]
  },
  {
   "cell_type": "markdown",
   "metadata": {
    "id": "SiZb3DWys5jw"
   },
   "source": [
    "**Q:** Solve the following differential equation:\n",
    "$$ x^2y''- 3xy'+ 4y=0$$"
   ]
  },
  {
   "cell_type": "code",
   "execution_count": null,
   "metadata": {},
   "outputs": [],
   "source": []
  },
  {
   "cell_type": "markdown",
   "metadata": {
    "id": "jOZLZroZhWQp"
   },
   "source": [
    "Now we take a nonhomegenous equation:\n",
    "$$y''-4y=(x^{2}-3)sin(2x)$$"
   ]
  },
  {
   "cell_type": "code",
   "execution_count": 16,
   "metadata": {
    "colab": {
     "base_uri": "https://localhost:8080/",
     "height": 54
    },
    "executionInfo": {
     "elapsed": 984,
     "status": "ok",
     "timestamp": 1696238990817,
     "user": {
      "displayName": "Dr. Ghulam Murtaza",
      "userId": "13970303583067568462"
     },
     "user_tz": -300
    },
    "id": "2WFyDq3jiUez",
    "outputId": "0d917adf-fc40-4a16-e3c2-5496eef942ef"
   },
   "outputs": [
    {
     "data": {
      "text/latex": [
       "$\\displaystyle y{\\left(x \\right)} = C_{1} e^{- 2 x} + C_{2} e^{2 x} - \\frac{x^{2} \\sin{\\left(2 x \\right)}}{8} - \\frac{x \\cos{\\left(2 x \\right)}}{8} + \\frac{13 \\sin{\\left(2 x \\right)}}{32}$"
      ],
      "text/plain": [
       "Eq(y(x), C1*exp(-2*x) + C2*exp(2*x) - x**2*sin(2*x)/8 - x*cos(2*x)/8 + 13*sin(2*x)/32)"
      ]
     },
     "execution_count": 16,
     "metadata": {},
     "output_type": "execute_result"
    }
   ],
   "source": [
    "eq1=Eq(ypp -4* y,(x**2-3)*sin(2*x))\n",
    "solution=dsolve(eq1, y)\n",
    "solution\n"
   ]
  },
  {
   "cell_type": "markdown",
   "metadata": {
    "id": "UyuG3PFfnRWO"
   },
   "source": [
    "**Q:** Solve the following differential equation:\n",
    "$$y''-4y=12x$$"
   ]
  },
  {
   "cell_type": "code",
   "execution_count": null,
   "metadata": {},
   "outputs": [],
   "source": []
  },
  {
   "cell_type": "code",
   "execution_count": 25,
   "metadata": {
    "colab": {
     "base_uri": "https://localhost:8080/"
    },
    "executionInfo": {
     "elapsed": 406,
     "status": "ok",
     "timestamp": 1696239456751,
     "user": {
      "displayName": "Dr. Ghulam Murtaza",
      "userId": "13970303583067568462"
     },
     "user_tz": -300
    },
    "id": "KFtyBjSgcKww",
    "outputId": "4d3060c5-29cf-41ca-ebd3-f324409f1612"
   },
   "outputs": [
    {
     "data": {
      "text/plain": [
       "{'nth_linear_constant_coeff_variation_of_parameters_Integral': Eq(y(x), C1*exp(-2*x) + C2*exp(2*x) - 3*x),\n",
       " 'nth_linear_constant_coeff_undetermined_coefficients': Eq(y(x), C1*exp(-2*x) + C2*exp(2*x) - 3*x),\n",
       " 'nth_linear_constant_coeff_variation_of_parameters': Eq(y(x), C1*exp(-2*x) + C2*exp(2*x) - 3*x),\n",
       " 'best': Eq(y(x), C1*exp(-2*x) + C2*exp(2*x) - 3*x),\n",
       " 'best_hint': 'nth_linear_constant_coeff_undetermined_coefficients',\n",
       " 'default': 'nth_linear_constant_coeff_undetermined_coefficients',\n",
       " 'order': 2}"
      ]
     },
     "execution_count": 25,
     "metadata": {},
     "output_type": "execute_result"
    }
   ],
   "source": [
    "classify_ode(eq, y)\n",
    "dsolve(eq, y, hint=\"all\")\n",
    "#from sympy.solvers import ode\n",
    "#ode.allhints"
   ]
  },
  {
   "cell_type": "markdown",
   "metadata": {
    "id": "q7kRU9P9TgMt"
   },
   "source": [
    "**Keyword arguments: hint** \"is the solving method that you want dsolve to use.\"\n",
    "\n",
    "\n",
    " For example, if you know that given differential equation is a separable equation, you can use keyword `hint='separable'` to force dsolve to resolve it as a separable equation: For this, see the following example\n",
    " $$\\frac{dx}{dy}+2xy^2=0$$"
   ]
  },
  {
   "cell_type": "code",
   "execution_count": 20,
   "metadata": {
    "colab": {
     "base_uri": "https://localhost:8080/",
     "height": 54
    },
    "executionInfo": {
     "elapsed": 521,
     "status": "ok",
     "timestamp": 1685353487964,
     "user": {
      "displayName": "Dr. Ghulam Murtaza",
      "userId": "13970303583067568462"
     },
     "user_tz": 420
    },
    "id": "LfRzTv54Tcp7",
    "outputId": "b0f6ad62-2ae3-4f20-afb3-e2cdfa991994"
   },
   "outputs": [
    {
     "data": {
      "text/latex": [
       "$\\displaystyle y{\\left(x \\right)} = \\frac{1}{C_{1} + x^{2}}$"
      ],
      "text/plain": [
       "Eq(y(x), 1/(C1 + x**2))"
      ]
     },
     "execution_count": 20,
     "metadata": {},
     "output_type": "execute_result"
    }
   ],
   "source": [
    "dsolve(yp+2*x*y**2,y, hint='separable')"
   ]
  },
  {
   "cell_type": "markdown",
   "metadata": {},
   "source": [
    "**Q:** Solve the following Differential equation using variation of parameter method:\n",
    "$$y''-4y=(x^{2}-3)cos(5x)$$"
   ]
  },
  {
   "cell_type": "code",
   "execution_count": null,
   "metadata": {},
   "outputs": [],
   "source": []
  },
  {
   "cell_type": "markdown",
   "metadata": {
    "id": "BPPrYUBUmyCc"
   },
   "source": [
    "**Initial value problem:** An initial value problem (IVP) is a differential equation with a set of constraints at the initial point.$$\\frac{d^{n}y}{dx^{n}}=f(x,y,y^{\\prime },\\cdots ,y^{(n-1)})$$ $$y(x_{0})=y_{0},y(x_{0})=y_{1},\\cdots ,y^{(n-1)}(x_{0})=y_{n-1}.$$\n",
    "Example:$$y''-4y=12x, y(0)=4, y'(0)=1$$"
   ]
  },
  {
   "cell_type": "code",
   "execution_count": 26,
   "metadata": {
    "colab": {
     "base_uri": "https://localhost:8080/",
     "height": 56
    },
    "executionInfo": {
     "elapsed": 555,
     "status": "ok",
     "timestamp": 1685353838015,
     "user": {
      "displayName": "Dr. Ghulam Murtaza",
      "userId": "13970303583067568462"
     },
     "user_tz": 420
    },
    "id": "j7kM5W1ZmxD2",
    "outputId": "b905c9cc-77db-4600-a39f-999444170c0f"
   },
   "outputs": [
    {
     "name": "stdout",
     "output_type": "stream",
     "text": [
      "solution: -3*x + 3*exp(2*x) + exp(-2*x)\n"
     ]
    },
    {
     "data": {
      "text/latex": [
       "$\\displaystyle y{\\left(x \\right)} = - 3 x + 3 e^{2 x} + e^{- 2 x}$"
      ],
      "text/plain": [
       "Eq(y(x), -3*x + 3*exp(2*x) + exp(-2*x))"
      ]
     },
     "execution_count": 26,
     "metadata": {},
     "output_type": "execute_result"
    }
   ],
   "source": [
    "eq=Eq(ypp-4*y,12*x)\n",
    "solution=dsolve(eq, y,ics={y.subs(x,0):4,yp.subs(x,0):1})\n",
    "print(\"solution:\",solution.rhs)\n",
    "solution\n"
   ]
  },
  {
   "cell_type": "markdown",
   "metadata": {},
   "source": [
    "**Q:** Rewrite and solve the above initial value problem for your own inital condition. "
   ]
  },
  {
   "cell_type": "code",
   "execution_count": null,
   "metadata": {},
   "outputs": [],
   "source": []
  },
  {
   "cell_type": "markdown",
   "metadata": {},
   "source": [
    "# Plotting the solution\n",
    "+ plotting using sympy\n",
    "+ plotting using matplotlib "
   ]
  },
  {
   "cell_type": "code",
   "execution_count": 28,
   "metadata": {},
   "outputs": [
    {
     "data": {
      "image/png": "[encoded data removed]",
      "text/plain": [
       "<Figure size 640x480 with 1 Axes>"
      ]
     },
     "metadata": {},
     "output_type": "display_data"
    },
    {
     "data": {
      "text/plain": [
       "<sympy.plotting.plot.Plot at 0x274edc68e90>"
      ]
     },
     "execution_count": 28,
     "metadata": {},
     "output_type": "execute_result"
    }
   ],
   "source": [
    "from sympy.plotting import plot # plot function is used for plotting 2d graph in sympy\n",
    "\n",
    "plot(solution.rhs,(x,0,15))"
   ]
  },
  {
   "cell_type": "code",
   "execution_count": 29,
   "metadata": {
    "colab": {
     "base_uri": "https://localhost:8080/",
     "height": 465
    },
    "executionInfo": {
     "elapsed": 609,
     "status": "ok",
     "timestamp": 1685353915594,
     "user": {
      "displayName": "Dr. Ghulam Murtaza",
      "userId": "13970303583067568462"
     },
     "user_tz": 420
    },
    "id": "TzGUJFElHlub",
    "outputId": "8c6d8cd2-e13b-4216-ca7a-dadd6dc0e73e"
   },
   "outputs": [
    {
     "data": {
      "image/png": "[encoded data removed]",
      "text/plain": [
       "<Figure size 640x480 with 1 Axes>"
      ]
     },
     "metadata": {},
     "output_type": "display_data"
    }
   ],
   "source": [
    "################################################\n",
    "sol_func=lambdify(x,solution.rhs,'numpy')\n",
    "#lambdify function is used to convert sympy function into numpy function\n",
    "################################################\n",
    "x_span = np.linspace(0, 15, 100)\n",
    "y_span=sol_func(x_span)\n",
    "plt.plot(x_span,y_span,'^:r')\n",
    "plt.xlabel('x')\n",
    "plt.ylabel('y(x)')\n",
    "plt.show()"
   ]
  },
  {
   "cell_type": "markdown",
   "metadata": {
    "id": "VmOk_VQMwnJn"
   },
   "source": [
    "**Boundary Value problem:**\n",
    "Example:$$y''+y=x^2+1, y(0)= 5, y(1)=0$$"
   ]
  },
  {
   "cell_type": "code",
   "execution_count": 30,
   "metadata": {
    "colab": {
     "base_uri": "https://localhost:8080/",
     "height": 57
    },
    "executionInfo": {
     "elapsed": 800,
     "status": "ok",
     "timestamp": 1685354196819,
     "user": {
      "displayName": "Dr. Ghulam Murtaza",
      "userId": "13970303583067568462"
     },
     "user_tz": 420
    },
    "id": "fVaKGLcxxEje",
    "outputId": "0efbb32c-8fa0-45dd-d987-068ac8dd4285"
   },
   "outputs": [
    {
     "data": {
      "text/latex": [
       "$\\displaystyle y{\\left(x \\right)} = x^{2} - \\frac{6 \\sin{\\left(x \\right)} \\cos{\\left(1 \\right)}}{\\sin{\\left(1 \\right)}} + 6 \\cos{\\left(x \\right)} - 1$"
      ],
      "text/plain": [
       "Eq(y(x), x**2 - 6*sin(x)*cos(1)/sin(1) + 6*cos(x) - 1)"
      ]
     },
     "execution_count": 30,
     "metadata": {},
     "output_type": "execute_result"
    }
   ],
   "source": [
    "eq=Eq(ypp +y,x**2+1)\n",
    "solution=dsolve(eq, y,ics={y.subs(x,0):5,y.subs(x,1):0})\n",
    "solution\n"
   ]
  },
  {
   "cell_type": "markdown",
   "metadata": {
    "id": "EmZB8kT4gBPM"
   },
   "source": [
    "**Coupled system:** Mixing of fluid in two tanks\n",
    "\\begin{eqnarray*}\n",
    "\\frac{dx_1}{dt} &=&-\\frac{2}{25}x_1+\\frac{1}{50}x_2 \\\\\n",
    "\\frac{dx_2}{dt} &=&\\frac{2}{25}x_1-\\frac{2}{25}x_2\\\\\n",
    "x_1(0) &=&25,x_2(0) =0\n",
    "\\end{eqnarray*}"
   ]
  },
  {
   "cell_type": "code",
   "execution_count": 32,
   "metadata": {
    "colab": {
     "base_uri": "https://localhost:8080/",
     "height": 38
    },
    "executionInfo": {
     "elapsed": 646,
     "status": "ok",
     "timestamp": 1674536941481,
     "user": {
      "displayName": "Dr. Ghulam Murtaza",
      "userId": "13970303583067568462"
     },
     "user_tz": -300
    },
    "id": "0TWgfCcchJbD",
    "outputId": "8ce9f536-c120-477b-a89b-f28008d9926d"
   },
   "outputs": [
    {
     "name": "stdout",
     "output_type": "stream",
     "text": [
      "              -0.12⋅t         -0.04⋅t\n",
      "x₁(t) = 12.5⋅ℯ        + 12.5⋅ℯ       \n",
      "                -0.12⋅t         -0.04⋅t\n",
      "x₂(t) = - 25.0⋅ℯ        + 25.0⋅ℯ       \n"
     ]
    }
   ],
   "source": [
    "t = symbols('t')\n",
    "x1 =Function('x1')(t)\n",
    "x2=Function('x2')(t)\n",
    "\n",
    "x1p = x1.diff(t)\n",
    "x2p = x2.diff(t)\n",
    "\n",
    "eqs=[Eq(x1p,(-2/25)*x1+(1/50)*x2),Eq(x2p,(2/25)*x1-(2/25)*x2)]\n",
    "solution=dsolve(eqs,[x1,x2],ics={x1.subs(t,0):25,x2.subs(t,0):0})\n",
    "pprint(solution[0])\n",
    "pprint(solution[1])"
   ]
  },
  {
   "cell_type": "code",
   "execution_count": 33,
   "metadata": {
    "colab": {
     "base_uri": "https://localhost:8080/",
     "height": 279
    },
    "executionInfo": {
     "elapsed": 506,
     "status": "ok",
     "timestamp": 1674537031050,
     "user": {
      "displayName": "Dr. Ghulam Murtaza",
      "userId": "13970303583067568462"
     },
     "user_tz": -300
    },
    "id": "7x-Fi0yhzIoc",
    "outputId": "40bbc8b3-df17-479d-dfc2-3d2b573f7c33"
   },
   "outputs": [
    {
     "data": {
      "image/png": "[encoded data removed]",
      "text/plain": [
       "<Figure size 640x480 with 1 Axes>"
      ]
     },
     "metadata": {},
     "output_type": "display_data"
    }
   ],
   "source": [
    "#plotting using numpy\n",
    "t_span = np.linspace(0, 200, 100)\n",
    "\n",
    "sol_func=lambdify(t,[solution[0].rhs,solution[1].rhs],'numpy')\n",
    "y_span=sol_func(t_span)\n",
    "\n",
    "plt.plot(t_span,y_span[0],t_span,y_span[1])\n",
    "plt.xlabel('t')\n",
    "plt.legend([\"$x_1$\", \"$x_2$\"])\n",
    "plt.show()"
   ]
  },
  {
   "cell_type": "markdown",
   "metadata": {},
   "source": [
    "**Q:** Plot the above by using sympy."
   ]
  },
  {
   "cell_type": "code",
   "execution_count": null,
   "metadata": {},
   "outputs": [],
   "source": []
  },
  {
   "cell_type": "markdown",
   "metadata": {
    "id": "8ACsDPES7kLn"
   },
   "source": [
    "**Can we solve every type of differential equation using dsolve:**\n",
    " NO!\n",
    "\n",
    "A differential equation which is not solvable with dsolve:\n",
    "$$y'''-y^2=0$$"
   ]
  },
  {
   "cell_type": "code",
   "execution_count": 34,
   "metadata": {
    "colab": {
     "base_uri": "https://localhost:8080/"
    },
    "executionInfo": {
     "elapsed": 642,
     "status": "ok",
     "timestamp": 1685354313643,
     "user": {
      "displayName": "Dr. Ghulam Murtaza",
      "userId": "13970303583067568462"
     },
     "user_tz": 420
    },
    "id": "WYHzhm1T7CdP",
    "outputId": "291095c7-ed6a-4b8b-db14-a221dbe46764"
   },
   "outputs": [
    {
     "ename": "NotImplementedError",
     "evalue": "solve: Cannot solve -y(x)**2 + Derivative(y(x), (x, 3))",
     "output_type": "error",
     "traceback": [
      "\u001b[1;31m---------------------------------------------------------------------------\u001b[0m",
      "\u001b[1;31mNotImplementedError\u001b[0m                       Traceback (most recent call last)",
      "Cell \u001b[1;32mIn[34], line 2\u001b[0m\n\u001b[0;32m      1\u001b[0m eq\u001b[38;5;241m=\u001b[39mEq(yppp\u001b[38;5;241m-\u001b[39my\u001b[38;5;241m*\u001b[39m\u001b[38;5;241m*\u001b[39m\u001b[38;5;241m2\u001b[39m,\u001b[38;5;241m0\u001b[39m)\n\u001b[1;32m----> 2\u001b[0m dsolve(eq, y)\n",
      "File \u001b[1;32m~\\anaconda3\\Lib\\site-packages\\sympy\\solvers\\ode\\ode.py:605\u001b[0m, in \u001b[0;36mdsolve\u001b[1;34m(eq, func, hint, simplify, ics, xi, eta, x0, n, **kwargs)\u001b[0m\n\u001b[0;32m    602\u001b[0m given_hint \u001b[38;5;241m=\u001b[39m hint  \u001b[38;5;66;03m# hint given by the user\u001b[39;00m\n\u001b[0;32m    604\u001b[0m \u001b[38;5;66;03m# See the docstring of _desolve for more details.\u001b[39;00m\n\u001b[1;32m--> 605\u001b[0m hints \u001b[38;5;241m=\u001b[39m _desolve(eq, func\u001b[38;5;241m=\u001b[39mfunc,\n\u001b[0;32m    606\u001b[0m     hint\u001b[38;5;241m=\u001b[39mhint, simplify\u001b[38;5;241m=\u001b[39m\u001b[38;5;28;01mTrue\u001b[39;00m, xi\u001b[38;5;241m=\u001b[39mxi, eta\u001b[38;5;241m=\u001b[39meta, \u001b[38;5;28mtype\u001b[39m\u001b[38;5;241m=\u001b[39m\u001b[38;5;124m'\u001b[39m\u001b[38;5;124mode\u001b[39m\u001b[38;5;124m'\u001b[39m, ics\u001b[38;5;241m=\u001b[39mics,\n\u001b[0;32m    607\u001b[0m     x0\u001b[38;5;241m=\u001b[39mx0, n\u001b[38;5;241m=\u001b[39mn, \u001b[38;5;241m*\u001b[39m\u001b[38;5;241m*\u001b[39mkwargs)\n\u001b[0;32m    608\u001b[0m eq \u001b[38;5;241m=\u001b[39m hints\u001b[38;5;241m.\u001b[39mpop(\u001b[38;5;124m'\u001b[39m\u001b[38;5;124meq\u001b[39m\u001b[38;5;124m'\u001b[39m, eq)\n\u001b[0;32m    609\u001b[0m all_ \u001b[38;5;241m=\u001b[39m hints\u001b[38;5;241m.\u001b[39mpop(\u001b[38;5;124m'\u001b[39m\u001b[38;5;124mall\u001b[39m\u001b[38;5;124m'\u001b[39m, \u001b[38;5;28;01mFalse\u001b[39;00m)\n",
      "File \u001b[1;32m~\\anaconda3\\Lib\\site-packages\\sympy\\solvers\\deutils.py:241\u001b[0m, in \u001b[0;36m_desolve\u001b[1;34m(eq, func, hint, ics, simplify, prep, **kwargs)\u001b[0m\n\u001b[0;32m    238\u001b[0m         \u001b[38;5;28;01mraise\u001b[39;00m \u001b[38;5;167;01mValueError\u001b[39;00m(\n\u001b[0;32m    239\u001b[0m             \u001b[38;5;28mstr\u001b[39m(eq) \u001b[38;5;241m+\u001b[39m \u001b[38;5;124m\"\u001b[39m\u001b[38;5;124m is not a solvable differential equation in \u001b[39m\u001b[38;5;124m\"\u001b[39m \u001b[38;5;241m+\u001b[39m \u001b[38;5;28mstr\u001b[39m(func))\n\u001b[0;32m    240\u001b[0m     \u001b[38;5;28;01melse\u001b[39;00m:\n\u001b[1;32m--> 241\u001b[0m         \u001b[38;5;28;01mraise\u001b[39;00m \u001b[38;5;167;01mNotImplementedError\u001b[39;00m(dummy \u001b[38;5;241m+\u001b[39m \u001b[38;5;124m\"\u001b[39m\u001b[38;5;124msolve\u001b[39m\u001b[38;5;124m\"\u001b[39m \u001b[38;5;241m+\u001b[39m \u001b[38;5;124m\"\u001b[39m\u001b[38;5;124m: Cannot solve \u001b[39m\u001b[38;5;124m\"\u001b[39m \u001b[38;5;241m+\u001b[39m \u001b[38;5;28mstr\u001b[39m(eq))\n\u001b[0;32m    242\u001b[0m \u001b[38;5;28;01mif\u001b[39;00m hint \u001b[38;5;241m==\u001b[39m \u001b[38;5;124m'\u001b[39m\u001b[38;5;124mdefault\u001b[39m\u001b[38;5;124m'\u001b[39m:\n\u001b[0;32m    243\u001b[0m     \u001b[38;5;28;01mreturn\u001b[39;00m _desolve(eq, func, ics\u001b[38;5;241m=\u001b[39mics, hint\u001b[38;5;241m=\u001b[39mhints[\u001b[38;5;124m'\u001b[39m\u001b[38;5;124mdefault\u001b[39m\u001b[38;5;124m'\u001b[39m], simplify\u001b[38;5;241m=\u001b[39msimplify,\n\u001b[0;32m    244\u001b[0m                   prep\u001b[38;5;241m=\u001b[39mprep, x0\u001b[38;5;241m=\u001b[39mx0, classify\u001b[38;5;241m=\u001b[39m\u001b[38;5;28;01mFalse\u001b[39;00m, order\u001b[38;5;241m=\u001b[39mhints[\u001b[38;5;124m'\u001b[39m\u001b[38;5;124morder\u001b[39m\u001b[38;5;124m'\u001b[39m],\n\u001b[0;32m    245\u001b[0m                   match\u001b[38;5;241m=\u001b[39mhints[hints[\u001b[38;5;124m'\u001b[39m\u001b[38;5;124mdefault\u001b[39m\u001b[38;5;124m'\u001b[39m]], xi\u001b[38;5;241m=\u001b[39mxi, eta\u001b[38;5;241m=\u001b[39meta, n\u001b[38;5;241m=\u001b[39mterms, \u001b[38;5;28mtype\u001b[39m\u001b[38;5;241m=\u001b[39m\u001b[38;5;28mtype\u001b[39m)\n",
      "\u001b[1;31mNotImplementedError\u001b[0m: solve: Cannot solve -y(x)**2 + Derivative(y(x), (x, 3))"
     ]
    }
   ],
   "source": [
    "eq=Eq(yppp-y**2,0)\n",
    "dsolve(eq, y)\n",
    "#classify_ode(eq, y)"
   ]
  },
  {
   "cell_type": "markdown",
   "metadata": {
    "id": "mvSfz-Jg6Uvd"
   },
   "source": [
    "### **Solving differential equation using Laplace tarnsformation**\n",
    "Consider the following problem:\n",
    "$$y''+ 5y'+ 4y= 0, y(0)= 1, y'(0)= 0$$\n"
   ]
  },
  {
   "cell_type": "code",
   "execution_count": 5,
   "metadata": {
    "colab": {
     "base_uri": "https://localhost:8080/",
     "height": 56
    },
    "executionInfo": {
     "elapsed": 979,
     "status": "ok",
     "timestamp": 1674537475604,
     "user": {
      "displayName": "Dr. Ghulam Murtaza",
      "userId": "13970303583067568462"
     },
     "user_tz": -300
    },
    "id": "GWHpyV2V8akb",
    "outputId": "f25ce6ab-9c1f-4f06-95ac-9ed81eada271"
   },
   "outputs": [
    {
     "data": {
      "text/latex": [
       "$\\displaystyle \\frac{\\left(4 e^{3 t} - 1\\right) e^{- 4 t}}{3}$"
      ],
      "text/plain": [
       "(4*exp(3*t) - 1)*exp(-4*t)/3"
      ]
     },
     "execution_count": 5,
     "metadata": {},
     "output_type": "execute_result"
    }
   ],
   "source": [
    "from sympy import *\n",
    "\n",
    "t = symbols('t',real=true,positive=true)\n",
    "s = symbols('s')\n",
    "y = Function('y')(t)\n",
    "Y = laplace_transform(y, t, s)\n",
    "def LT(y):\n",
    "    return laplace_transform(y, t, s)\n",
    "def ILT(Y):\n",
    "    return inverse_laplace_transform(Y, s, t)\n",
    "\n",
    "\n",
    "lap_eq=Eq(s**2*LT(y)-s*(1)-0+5*s*LT(y)-5+4*LT(y),0)\n",
    "\n",
    "Inv_eq=ILT(solve(lap_eq,Y)[0])\n",
    "Inv_eq\n",
    "\n"
   ]
  },
  {
   "cell_type": "code",
   "execution_count": 8,
   "metadata": {
    "colab": {
     "base_uri": "https://localhost:8080/",
     "height": 279
    },
    "executionInfo": {
     "elapsed": 1118,
     "status": "ok",
     "timestamp": 1674537906162,
     "user": {
      "displayName": "Dr. Ghulam Murtaza",
      "userId": "13970303583067568462"
     },
     "user_tz": -300
    },
    "id": "bJlKxCWczbMp",
    "outputId": "14b830f6-231d-42fa-a220-8c8cead5ca3c"
   },
   "outputs": [
    {
     "data": {
      "image/png": "[encoded data removed]",
      "text/plain": [
       "<Figure size 640x480 with 1 Axes>"
      ]
     },
     "metadata": {},
     "output_type": "display_data"
    }
   ],
   "source": [
    "sol_func=lambdify(t,ILT(solve(lap_eq,Y)[0]),'numpy')\n",
    "t_span = np.linspace(0, 10, 100)\n",
    "y_span=sol_func(t_span)\n",
    "\n",
    "plt.plot(t_span,y_span)\n",
    "plt.xlabel('t')\n",
    "plt.legend([\"$y(t)$\"])\n",
    "plt.show()"
   ]
  },
  {
   "cell_type": "markdown",
   "metadata": {
    "id": "fHxp1Owglr7d"
   },
   "source": [
    "### **Initial value problems using scipy**\n",
    " We start with a very basic problem: Exponential decay\n",
    "\\begin{eqnarray*}\n",
    "\\frac{dy}{dx} &=&ky \\\\\n",
    "y(x_{0}) &=&y_{0},\n",
    "\\end{eqnarray*} where $k$ is a negative number.\n",
    "\n",
    "\n",
    "\n"
   ]
  },
  {
   "cell_type": "markdown",
   "metadata": {
    "id": "FvYrlVMu8pSd"
   },
   "source": [
    "**Example**\n",
    "\\begin{eqnarray*}\n",
    "\\frac{dy}{dx} &=&-0.5y \\\\\n",
    "y(0) &=&2,\n",
    "\\end{eqnarray*}"
   ]
  },
  {
   "cell_type": "code",
   "execution_count": 1,
   "metadata": {
    "id": "Wu5Q_eZ0dphh"
   },
   "outputs": [],
   "source": [
    "import numpy as np\n",
    "from scipy.integrate import solve_ivp\n",
    "from matplotlib import pyplot as plt"
   ]
  },
  {
   "cell_type": "code",
   "execution_count": 3,
   "metadata": {},
   "outputs": [],
   "source": [
    "def exponential_decay(t, y):\n",
    "    return -0.5 * y"
   ]
  },
  {
   "cell_type": "code",
   "execution_count": 57,
   "metadata": {
    "colab": {
     "base_uri": "https://localhost:8080/"
    },
    "executionInfo": {
     "elapsed": 444,
     "status": "ok",
     "timestamp": 1674538206118,
     "user": {
      "displayName": "Dr. Ghulam Murtaza",
      "userId": "13970303583067568462"
     },
     "user_tz": -300
    },
    "id": "YEbxSpLJwdeF",
    "outputId": "960c2d2a-b372-4cf9-9f53-1ac993619c0a"
   },
   "outputs": [],
   "source": [
    "\n",
    "###############################\n",
    "t_span=(0,10)                #t0,tf\n",
    "y0=[2]                       #initial value y(0)=2\n",
    "##############################\n",
    "\n",
    "solution = solve_ivp(exponential_decay,t_span,y0)\n"
   ]
  },
  {
   "cell_type": "code",
   "execution_count": 58,
   "metadata": {
    "colab": {
     "base_uri": "https://localhost:8080/",
     "height": 279
    },
    "executionInfo": {
     "elapsed": 513,
     "status": "ok",
     "timestamp": 1674538260119,
     "user": {
      "displayName": "Dr. Ghulam Murtaza",
      "userId": "13970303583067568462"
     },
     "user_tz": -300
    },
    "id": "tKqr5SguLs4r",
    "outputId": "963d8d03-8d55-44ad-9519-b85839166bb0"
   },
   "outputs": [
    {
     "data": {
      "image/png": "[encoded data removed]",
      "text/plain": [
       "<Figure size 640x480 with 1 Axes>"
      ]
     },
     "metadata": {},
     "output_type": "display_data"
    }
   ],
   "source": [
    "plt.plot(solution.t,solution.y[0])\n",
    "plt.xlabel('t')\n",
    "plt.ylabel('y(t)')\n",
    "plt.show()"
   ]
  },
  {
   "cell_type": "code",
   "execution_count": 4,
   "metadata": {
    "colab": {
     "base_uri": "https://localhost:8080/",
     "height": 279
    },
    "executionInfo": {
     "elapsed": 501,
     "status": "ok",
     "timestamp": 1674538443866,
     "user": {
      "displayName": "Dr. Ghulam Murtaza",
      "userId": "13970303583067568462"
     },
     "user_tz": -300
    },
    "id": "wVmxIfig5qld",
    "outputId": "e4f533b2-bbdd-484c-a676-677d0f732963"
   },
   "outputs": [
    {
     "data": {
      "image/png": "[encoded data removed]",
      "text/plain": [
       "<Figure size 640x480 with 1 Axes>"
      ]
     },
     "metadata": {},
     "output_type": "display_data"
    }
   ],
   "source": [
    "t_span=(0,10)\n",
    "##################################\n",
    "t_eval = np.linspace(0, 10, 200)# evaluation points\n",
    "###################################\n",
    "y0=[2]\n",
    "sol = solve_ivp(exponential_decay,t_span,y0,t_eval=t_eval)\n",
    "plt.plot(sol.t,sol.y[0])\n",
    "plt.xlabel('t')\n",
    "plt.ylabel('y(t)')\n",
    "plt.show()"
   ]
  },
  {
   "cell_type": "markdown",
   "metadata": {
    "id": "J1Gh_ypDDE7T"
   },
   "source": [
    "**Example** A second oder ivp\n",
    "\\begin{eqnarray*}\n",
    "y''+y &=&sin(x) \\\\\n",
    "y(0) &=&\\pi/2\\\\\n",
    "y'(0) &=&\\pi\\\\x\\in[0,5]\n",
    "\\end{eqnarray*}\n",
    "can be written alternatively as follows\n",
    "\\begin{eqnarray*}\n",
    "z^{'}+y &=&sin(x)\\\\\n",
    "\\end{eqnarray*}\n",
    "where\n",
    "\\begin{eqnarray*}\n",
    "z&=&y'\\\\\n",
    "y(0) &=&\\pi/2\\\\\n",
    "z(0) &=&\\pi\n",
    "\\end{eqnarray*}\n",
    "Now our problem becomes like this\n",
    "$$%\n",
    "\\begin{bmatrix}\n",
    "y \\\\\n",
    "z%\n",
    "\\end{bmatrix}%\n",
    "^{\\prime }=%\n",
    "\\begin{bmatrix}\n",
    "z \\\\\n",
    "\\sin x-y%\n",
    "\\end{bmatrix}%\n",
    "$$\n",
    "with initial condition\n",
    "$$%\n",
    "\\begin{bmatrix}\n",
    "y(0) \\\\\n",
    "z(0)%\n",
    "\\end{bmatrix}%\n",
    "=%\n",
    "\\begin{bmatrix}\n",
    "\\pi/2 \\\\\n",
    "\\pi%\n",
    "\\end{bmatrix}%\n",
    "$$\n"
   ]
  },
  {
   "cell_type": "code",
   "execution_count": 5,
   "metadata": {},
   "outputs": [],
   "source": [
    "def ode_function(t, y):\n",
    "    return np.array([y[1],np.sin(t)-y[0]])"
   ]
  },
  {
   "cell_type": "code",
   "execution_count": 6,
   "metadata": {
    "colab": {
     "base_uri": "https://localhost:8080/"
    },
    "executionInfo": {
     "elapsed": 458,
     "status": "ok",
     "timestamp": 1674538524190,
     "user": {
      "displayName": "Dr. Ghulam Murtaza",
      "userId": "13970303583067568462"
     },
     "user_tz": -300
    },
    "id": "8GvXA-RyP9Pt",
    "outputId": "bab4e0b8-309b-437a-b22b-5069e0155efe"
   },
   "outputs": [],
   "source": [
    "t_span = (0,50)\n",
    "t_eval = np.linspace(0, 50, 200)\n",
    "y0 = np.array([np.pi /2, np.pi])\n",
    "sol = solve_ivp(ode_function,t_span,y0,t_eval=t_eval)\n"
   ]
  },
  {
   "cell_type": "code",
   "execution_count": 7,
   "metadata": {
    "colab": {
     "base_uri": "https://localhost:8080/",
     "height": 279
    },
    "executionInfo": {
     "elapsed": 532,
     "status": "ok",
     "timestamp": 1674538531537,
     "user": {
      "displayName": "Dr. Ghulam Murtaza",
      "userId": "13970303583067568462"
     },
     "user_tz": -300
    },
    "id": "uvtKJRLqNd8t",
    "outputId": "09519909-db15-45ad-e904-85deea5ce82b"
   },
   "outputs": [
    {
     "data": {
      "image/png": "[encoded data removed]",
      "text/plain": [
       "<Figure size 640x480 with 1 Axes>"
      ]
     },
     "metadata": {},
     "output_type": "display_data"
    }
   ],
   "source": [
    "plt.plot(sol.t,sol.y[0])\n",
    "plt.xlabel('t')\n",
    "plt.ylabel('y(t)')\n",
    "plt.show()"
   ]
  },
  {
   "cell_type": "markdown",
   "metadata": {
    "id": "fq8i4Ab_mxOC"
   },
   "source": [
    "### **Boundary value problems**\n",
    "A boundary value problem (BVP) is a differential equation with a set of constraints at the boundary points. For a second oder differential equation $$\\frac{d^{2}y}{dx^{2}}=f(x,y,y^{\\prime }), x\\in[a,b]$$\n",
    "any of the following conditions can be used for boundary conditions:\n",
    "\\begin{eqnarray}\n",
    "y(a) &=& y_0,y(b) &=& y_1 \\\\\n",
    "y'(a) &=& y_0,y'(b) &=& y_1 \\\\\n",
    "y'(a) &=& y_0,y(b) &=& y_1 \\\\\n",
    "y(a) &=& y_0,y'(b) &=& y_1\n",
    "\\end{eqnarray}"
   ]
  },
  {
   "cell_type": "markdown",
   "metadata": {
    "id": "-5QMsk6EZZ6R"
   },
   "source": [
    "**Example:**\n",
    "$y'' + y = cos(t); y'(0) = 5; y(\\pi) = -5/3$\n"
   ]
  },
  {
   "cell_type": "code",
   "execution_count": 8,
   "metadata": {
    "colab": {
     "base_uri": "https://localhost:8080/",
     "height": 279
    },
    "executionInfo": {
     "elapsed": 509,
     "status": "ok",
     "timestamp": 1674538709126,
     "user": {
      "displayName": "Dr. Ghulam Murtaza",
      "userId": "13970303583067568462"
     },
     "user_tz": -300
    },
    "id": "P7GeiPbdugvr",
    "outputId": "05d57599-9bf3-4aa4-bfeb-0a56c5d241ee"
   },
   "outputs": [
    {
     "data": {
      "image/png": "[encoded data removed]",
      "text/plain": [
       "<Figure size 640x480 with 1 Axes>"
      ]
     },
     "metadata": {},
     "output_type": "display_data"
    }
   ],
   "source": [
    "from scipy.integrate import solve_bvp\n",
    "import numpy as np\n",
    "import matplotlib.pyplot as plt\n",
    "\n",
    "def ode(t,y):\n",
    "    return np.array([y[1], np.cos(t) - y[0]])\n",
    "\n",
    "def bc(ya,yb):\n",
    "\n",
    "# ya are the initial values\n",
    "# yb are the final values\n",
    "# each entry of the return array will be set to zero\n",
    "    return np.array([ya[1] - 5, yb[0] + 5/3])\n",
    "\n",
    "t_steps = 100\n",
    "t = np.linspace(0,np.pi,t_steps)\n",
    "\n",
    "# element 4: the initial guess.\n",
    "y0 = np.zeros((2,t_steps))\n",
    "\n",
    "# Solve the system.\n",
    "sol = solve_bvp(ode, bc, t, y0)\n",
    "\n",
    "# here we plot sol.x instead of sol.t\n",
    "plt.plot(sol.x, sol.y[0])\n",
    "plt.xlabel('t')\n",
    "plt.ylabel('y(t)')\n",
    "plt.show()"
   ]
  },
  {
   "cell_type": "code",
   "execution_count": null,
   "metadata": {},
   "outputs": [],
   "source": []
  }
 ],
 "metadata": {
  "colab": {
   "authorship_tag": "ABX9TyNdpZtryeazJqLRKABPj/+Q",
   "provenance": []
  },
  "kernelspec": {
   "display_name": "Python 3 (ipykernel)",
   "language": "python",
   "name": "python3"
  },
  "language_info": {
   "codemirror_mode": {
    "name": "ipython",
    "version": 3
   },
   "file_extension": ".py",
   "mimetype": "text/x-python",
   "name": "python",
   "nbconvert_exporter": "python",
   "pygments_lexer": "ipython3",
   "version": "3.11.3"
  }
 },
 "nbformat": 4,
 "nbformat_minor": 1
}
